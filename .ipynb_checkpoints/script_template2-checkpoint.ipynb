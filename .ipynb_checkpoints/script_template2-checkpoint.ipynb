{
 "cells": [
  {
   "cell_type": "code",
   "execution_count": 92,
   "metadata": {},
   "outputs": [],
   "source": [
    "import numpy as np\n",
    "import pandas as pd\n",
    "import sqlite3\n",
    "import sys\n",
    "import os\n",
    "import re\n",
    "from urllib.parse import urlparse"
   ]
  },
  {
   "cell_type": "code",
   "execution_count": 93,
   "metadata": {},
   "outputs": [],
   "source": [
    "data_path = '../data/'\n",
    "file_name = \"nyt-t1\"\n",
    "sql_file = data_path + file_name + '.sqlite'"
   ]
  },
  {
   "cell_type": "code",
   "execution_count": 94,
   "metadata": {},
   "outputs": [],
   "source": [
    "query = \"\"\"SELECT sv.site_url, sv.visit_id,\n",
    "        hr.headers, hr.referrer, hr.url, hr.top_level_url\n",
    "        FROM http_requests as hr LEFT JOIN site_visits as sv\n",
    "        ON sv.visit_id = hr.visit_id\n",
    "        \"\"\""
   ]
  },
  {
   "cell_type": "code",
   "execution_count": 95,
   "metadata": {},
   "outputs": [
    {
     "ename": "DatabaseError",
     "evalue": "Execution failed on sql 'SELECT sv.site_url, sv.visit_id,\n        hr.headers, hr.referrer, hr.url, hr.top_level_url\n        FROM http_requests as hr LEFT JOIN site_visits as sv\n        ON sv.visit_id = hr.visit_id\n        ': no such table: http_requests",
     "output_type": "error",
     "traceback": [
      "\u001b[0;31m---------------------------------------------------------------------------\u001b[0m",
      "\u001b[0;31mOperationalError\u001b[0m                          Traceback (most recent call last)",
      "\u001b[0;32m/opt/anaconda3/lib/python3.7/site-packages/pandas/io/sql.py\u001b[0m in \u001b[0;36mexecute\u001b[0;34m(self, *args, **kwargs)\u001b[0m\n\u001b[1;32m   1585\u001b[0m         \u001b[0;32mtry\u001b[0m\u001b[0;34m:\u001b[0m\u001b[0;34m\u001b[0m\u001b[0;34m\u001b[0m\u001b[0m\n\u001b[0;32m-> 1586\u001b[0;31m             \u001b[0mcur\u001b[0m\u001b[0;34m.\u001b[0m\u001b[0mexecute\u001b[0m\u001b[0;34m(\u001b[0m\u001b[0;34m*\u001b[0m\u001b[0margs\u001b[0m\u001b[0;34m,\u001b[0m \u001b[0;34m**\u001b[0m\u001b[0mkwargs\u001b[0m\u001b[0;34m)\u001b[0m\u001b[0;34m\u001b[0m\u001b[0;34m\u001b[0m\u001b[0m\n\u001b[0m\u001b[1;32m   1587\u001b[0m             \u001b[0;32mreturn\u001b[0m \u001b[0mcur\u001b[0m\u001b[0;34m\u001b[0m\u001b[0;34m\u001b[0m\u001b[0m\n",
      "\u001b[0;31mOperationalError\u001b[0m: no such table: http_requests",
      "\nThe above exception was the direct cause of the following exception:\n",
      "\u001b[0;31mDatabaseError\u001b[0m                             Traceback (most recent call last)",
      "\u001b[0;32m<ipython-input-95-fecd1331cc4d>\u001b[0m in \u001b[0;36m<module>\u001b[0;34m\u001b[0m\n\u001b[1;32m      1\u001b[0m \u001b[0mconn\u001b[0m \u001b[0;34m=\u001b[0m \u001b[0msqlite3\u001b[0m\u001b[0;34m.\u001b[0m\u001b[0mconnect\u001b[0m\u001b[0;34m(\u001b[0m\u001b[0msql_file\u001b[0m\u001b[0;34m)\u001b[0m\u001b[0;34m\u001b[0m\u001b[0;34m\u001b[0m\u001b[0m\n\u001b[1;32m      2\u001b[0m \u001b[0;31m# http_requests = pd.read_sql_query(\"select visit_id, headers, referrer, url, top_level_url from http_requests;\", conn)\u001b[0m\u001b[0;34m\u001b[0m\u001b[0;34m\u001b[0m\u001b[0;34m\u001b[0m\u001b[0m\n\u001b[0;32m----> 3\u001b[0;31m \u001b[0mhttp_requests\u001b[0m \u001b[0;34m=\u001b[0m \u001b[0mpd\u001b[0m\u001b[0;34m.\u001b[0m\u001b[0mread_sql_query\u001b[0m\u001b[0;34m(\u001b[0m\u001b[0mquery\u001b[0m\u001b[0;34m,\u001b[0m \u001b[0mconn\u001b[0m\u001b[0;34m)\u001b[0m\u001b[0;34m\u001b[0m\u001b[0;34m\u001b[0m\u001b[0m\n\u001b[0m",
      "\u001b[0;32m/opt/anaconda3/lib/python3.7/site-packages/pandas/io/sql.py\u001b[0m in \u001b[0;36mread_sql_query\u001b[0;34m(sql, con, index_col, coerce_float, params, parse_dates, chunksize)\u001b[0m\n\u001b[1;32m    330\u001b[0m         \u001b[0mcoerce_float\u001b[0m\u001b[0;34m=\u001b[0m\u001b[0mcoerce_float\u001b[0m\u001b[0;34m,\u001b[0m\u001b[0;34m\u001b[0m\u001b[0;34m\u001b[0m\u001b[0m\n\u001b[1;32m    331\u001b[0m         \u001b[0mparse_dates\u001b[0m\u001b[0;34m=\u001b[0m\u001b[0mparse_dates\u001b[0m\u001b[0;34m,\u001b[0m\u001b[0;34m\u001b[0m\u001b[0;34m\u001b[0m\u001b[0m\n\u001b[0;32m--> 332\u001b[0;31m         \u001b[0mchunksize\u001b[0m\u001b[0;34m=\u001b[0m\u001b[0mchunksize\u001b[0m\u001b[0;34m,\u001b[0m\u001b[0;34m\u001b[0m\u001b[0;34m\u001b[0m\u001b[0m\n\u001b[0m\u001b[1;32m    333\u001b[0m     )\n\u001b[1;32m    334\u001b[0m \u001b[0;34m\u001b[0m\u001b[0m\n",
      "\u001b[0;32m/opt/anaconda3/lib/python3.7/site-packages/pandas/io/sql.py\u001b[0m in \u001b[0;36mread_query\u001b[0;34m(self, sql, index_col, coerce_float, params, parse_dates, chunksize)\u001b[0m\n\u001b[1;32m   1631\u001b[0m \u001b[0;34m\u001b[0m\u001b[0m\n\u001b[1;32m   1632\u001b[0m         \u001b[0margs\u001b[0m \u001b[0;34m=\u001b[0m \u001b[0m_convert_params\u001b[0m\u001b[0;34m(\u001b[0m\u001b[0msql\u001b[0m\u001b[0;34m,\u001b[0m \u001b[0mparams\u001b[0m\u001b[0;34m)\u001b[0m\u001b[0;34m\u001b[0m\u001b[0;34m\u001b[0m\u001b[0m\n\u001b[0;32m-> 1633\u001b[0;31m         \u001b[0mcursor\u001b[0m \u001b[0;34m=\u001b[0m \u001b[0mself\u001b[0m\u001b[0;34m.\u001b[0m\u001b[0mexecute\u001b[0m\u001b[0;34m(\u001b[0m\u001b[0;34m*\u001b[0m\u001b[0margs\u001b[0m\u001b[0;34m)\u001b[0m\u001b[0;34m\u001b[0m\u001b[0;34m\u001b[0m\u001b[0m\n\u001b[0m\u001b[1;32m   1634\u001b[0m         \u001b[0mcolumns\u001b[0m \u001b[0;34m=\u001b[0m \u001b[0;34m[\u001b[0m\u001b[0mcol_desc\u001b[0m\u001b[0;34m[\u001b[0m\u001b[0;36m0\u001b[0m\u001b[0;34m]\u001b[0m \u001b[0;32mfor\u001b[0m \u001b[0mcol_desc\u001b[0m \u001b[0;32min\u001b[0m \u001b[0mcursor\u001b[0m\u001b[0;34m.\u001b[0m\u001b[0mdescription\u001b[0m\u001b[0;34m]\u001b[0m\u001b[0;34m\u001b[0m\u001b[0;34m\u001b[0m\u001b[0m\n\u001b[1;32m   1635\u001b[0m \u001b[0;34m\u001b[0m\u001b[0m\n",
      "\u001b[0;32m/opt/anaconda3/lib/python3.7/site-packages/pandas/io/sql.py\u001b[0m in \u001b[0;36mexecute\u001b[0;34m(self, *args, **kwargs)\u001b[0m\n\u001b[1;32m   1596\u001b[0m \u001b[0;34m\u001b[0m\u001b[0m\n\u001b[1;32m   1597\u001b[0m             \u001b[0mex\u001b[0m \u001b[0;34m=\u001b[0m \u001b[0mDatabaseError\u001b[0m\u001b[0;34m(\u001b[0m\u001b[0;34mf\"Execution failed on sql '{args[0]}': {exc}\"\u001b[0m\u001b[0;34m)\u001b[0m\u001b[0;34m\u001b[0m\u001b[0;34m\u001b[0m\u001b[0m\n\u001b[0;32m-> 1598\u001b[0;31m             \u001b[0;32mraise\u001b[0m \u001b[0mex\u001b[0m \u001b[0;32mfrom\u001b[0m \u001b[0mexc\u001b[0m\u001b[0;34m\u001b[0m\u001b[0;34m\u001b[0m\u001b[0m\n\u001b[0m\u001b[1;32m   1599\u001b[0m \u001b[0;34m\u001b[0m\u001b[0m\n\u001b[1;32m   1600\u001b[0m     \u001b[0;34m@\u001b[0m\u001b[0mstaticmethod\u001b[0m\u001b[0;34m\u001b[0m\u001b[0;34m\u001b[0m\u001b[0m\n",
      "\u001b[0;31mDatabaseError\u001b[0m: Execution failed on sql 'SELECT sv.site_url, sv.visit_id,\n        hr.headers, hr.referrer, hr.url, hr.top_level_url\n        FROM http_requests as hr LEFT JOIN site_visits as sv\n        ON sv.visit_id = hr.visit_id\n        ': no such table: http_requests"
     ]
    }
   ],
   "source": [
    "conn = sqlite3.connect(sql_file)\n",
    "# http_requests = pd.read_sql_query(\"select visit_id, headers, referrer, url, top_level_url from http_requests;\", conn)\n",
    "http_requests = pd.read_sql_query(query, conn)"
   ]
  },
  {
   "cell_type": "code",
   "execution_count": null,
   "metadata": {},
   "outputs": [],
   "source": [
    "cookies = pd.read_sql_query(\"select visit_id, record_type, change_cause, host, name, value from javascript_cookies;\", conn)"
   ]
  },
  {
   "cell_type": "code",
   "execution_count": null,
   "metadata": {},
   "outputs": [],
   "source": [
    "def get_host_from_headers(x):\n",
    "    temp = x.replace('\"','').split('],[')\n",
    "    for t in temp:\n",
    "            pair = t.replace(']]','').replace('[[','').split(',')\n",
    "            if \"Host\" in pair:\n",
    "                host_value = pair[1]\n",
    "    return host_value\n",
    "\n",
    "def get_cookies_from_headers(x):\n",
    "    ls = x.replace('\"','').split('],[')\n",
    "    for l in ls:\n",
    "        ta = l.replace(']]','').split(',')\n",
    "        if \"Cookie\" in ta:\n",
    "            return ta[-1]\n",
    "    return ''\n",
    "def extract_host_from_url(url_ls):\n",
    "    return list(map(lambda x: urlparse(x).netloc.split('.')[1] if len(urlparse(x).netloc.split('.')) > 1 else x, url_ls))\n",
    "\n",
    "def get_site(site_url):\n",
    "    return site_url.split(\".\")[1]\n",
    "def is_third_party(origin, url_host):\n",
    "    if origin in url_host:\n",
    "        return False\n",
    "    return True\n",
    "def save_df_to_csv(df, file_name):\n",
    "    df.to_csv(file_name+'.csv', index=False)"
   ]
  },
  {
   "cell_type": "code",
   "execution_count": null,
   "metadata": {},
   "outputs": [],
   "source": [
    "http_requests[\"host\"] = list(map(lambda x: get_host_from_headers(x), http_requests.headers.tolist()))\n",
    "http_requests[\"cookies\"] =  list(map(lambda x: get_cookies_from_headers(x), http_requests.headers.tolist()))\n",
    "http_requests[\"origin_site\"] = list(map(lambda x: get_site(x), http_requests.site_url))\n",
    "http_requests[\"is_third_party\"] = list(map(lambda a, b: is_third_party(a, b), http_requests.origin_site, http_requests.host))"
   ]
  },
  {
   "cell_type": "code",
   "execution_count": null,
   "metadata": {},
   "outputs": [],
   "source": [
    "http_requests_third_party = http_requests[http_requests.is_third_party == True]\n"
   ]
  },
  {
   "cell_type": "code",
   "execution_count": null,
   "metadata": {},
   "outputs": [],
   "source": [
    "query2 = \"\"\"SELECT sv.site_url, sv.visit_id,\n",
    "        jsc.host, jsc.name, jsc.value\n",
    "        FROM javascript_cookies as jsc LEFT JOIN site_visits as sv\n",
    "        ON sv.visit_id = jsc.visit_id\n",
    "        \"\"\"\n",
    "cookies = pd.read_sql_query(query2, conn)"
   ]
  },
  {
   "cell_type": "code",
   "execution_count": null,
   "metadata": {},
   "outputs": [],
   "source": [
    "# query2 = \"select visit_id, record_type, change_cause, host, name, value, time_stamp from javascript_cookies;\"\n",
    "cookies['origin_site'] = list(map(lambda x: get_site(x), cookies.site_url))\n",
    "cookies['is_third_party'] = list(map(lambda a, b: is_third_party(a, b), cookies.origin_site, cookies.host))"
   ]
  },
  {
   "cell_type": "code",
   "execution_count": null,
   "metadata": {},
   "outputs": [],
   "source": [
    "cookies_first_party = cookies[cookies.is_third_party == False]\n",
    "cookies_third_party = cookies[cookies.is_third_party == True]"
   ]
  },
  {
   "cell_type": "code",
   "execution_count": null,
   "metadata": {},
   "outputs": [],
   "source": [
    "cookie_fp_effective = [re.escape(v) for v in set(cookies_first_party.value) if len(v) > 5]\n",
    "cookie_tp_effective = [re.escape(v) for v in set(cookies_third_party.value) if len(v) > 5]\n",
    "cookie_effective_all = [re.escape(v) for v in set(cookies.value) if len(v) > 5]"
   ]
  },
  {
   "cell_type": "code",
   "execution_count": null,
   "metadata": {},
   "outputs": [],
   "source": [
    "fp_cookie_values = \"|\".join(cookie_fp_effective)\n",
    "tp_cookie_values = \"|\".join(cookie_tp_effective)\n",
    "all_cookie_values = \"|\".join(cookie_effective_all)"
   ]
  },
  {
   "cell_type": "code",
   "execution_count": null,
   "metadata": {},
   "outputs": [],
   "source": [
    "# len(tp_cookie_values)"
   ]
  },
  {
   "cell_type": "code",
   "execution_count": null,
   "metadata": {},
   "outputs": [],
   "source": [
    "# http_requests_syncs = http_requests_third_party[http_requests_third_party.url.str.contains(fp_cookie_values, regex=True)]\n",
    "http_requests_syncs = http_requests_third_party[http_requests_third_party.url.str.contains(all_cookie_values, regex=True)]"
   ]
  },
  {
   "cell_type": "code",
   "execution_count": null,
   "metadata": {},
   "outputs": [],
   "source": [
    "http_requests_syncs"
   ]
  },
  {
   "cell_type": "code",
   "execution_count": null,
   "metadata": {},
   "outputs": [],
   "source": [
    "# a = http_requests_third_party.url.str.contains(fp_cookie_values, regex=True).index\n",
    "# b = http_requests_third_party[http_requests_third_party.url.str.contains(fp_cookie_values, regex=True)]"
   ]
  },
  {
   "cell_type": "code",
   "execution_count": null,
   "metadata": {
    "scrolled": true
   },
   "outputs": [],
   "source": [
    "# b"
   ]
  },
  {
   "cell_type": "code",
   "execution_count": null,
   "metadata": {},
   "outputs": [],
   "source": [
    "# b"
   ]
  },
  {
   "cell_type": "code",
   "execution_count": null,
   "metadata": {},
   "outputs": [],
   "source": [
    "http_requests_syncs['share_fp_cookie'] = http_requests_third_party.url.str.contains(fp_cookie_values, regex=True)\n",
    "http_requests_syncs['share_tp_cookie'] = http_requests_third_party.url.str.contains(tp_cookie_values, regex=True)"
   ]
  },
  {
   "cell_type": "code",
   "execution_count": null,
   "metadata": {},
   "outputs": [],
   "source": [
    "http_requests_syncs"
   ]
  },
  {
   "cell_type": "code",
   "execution_count": null,
   "metadata": {},
   "outputs": [],
   "source": [
    "# extract third party\n",
    "http_requests_syncs['referrer_host'] = list(map(lambda x: urlparse(x).netloc, http_requests_syncs.referrer))"
   ]
  },
  {
   "cell_type": "code",
   "execution_count": null,
   "metadata": {},
   "outputs": [],
   "source": [
    "# can tell wether referrer and url are different\n",
    "http_requests_syncs['is_diff_host'] = list(map(lambda a, b: a != b, http_requests_syncs.host, http_requests_syncs.referrer_host))"
   ]
  },
  {
   "cell_type": "code",
   "execution_count": null,
   "metadata": {
    "scrolled": false
   },
   "outputs": [],
   "source": [
    "http_requests_syncs['referred_by_third'] = list(map(lambda a, b: is_third_party(a, b), http_requests_syncs.origin_site, http_requests_syncs.referrer_host))"
   ]
  },
  {
   "cell_type": "code",
   "execution_count": null,
   "metadata": {},
   "outputs": [],
   "source": [
    "http_requests_syncs = http_requests_syncs[http_requests_syncs.is_diff_host]\n",
    "# 609 -> 576\n",
    "http_requests_syncs"
   ]
  },
  {
   "cell_type": "code",
   "execution_count": null,
   "metadata": {},
   "outputs": [],
   "source": [
    "# http_requests_syncs[http_requests_syncs.share_fp_cookie].shape"
   ]
  },
  {
   "cell_type": "code",
   "execution_count": null,
   "metadata": {},
   "outputs": [],
   "source": [
    "# http_requests_syncs[http_requests_syncs.share_fp_cookie & http_requests_syncs.referred_by_third].shape"
   ]
  },
  {
   "cell_type": "code",
   "execution_count": null,
   "metadata": {},
   "outputs": [],
   "source": [
    "# http_requests_syncs[http_requests_syncs.share_tp_cookie].shape"
   ]
  },
  {
   "cell_type": "code",
   "execution_count": null,
   "metadata": {},
   "outputs": [],
   "source": [
    "# http_requests_syncs[http_requests_syncs.referred_by_third & http_requests_syncs.share_tp_cookie].shape"
   ]
  },
  {
   "cell_type": "code",
   "execution_count": null,
   "metadata": {},
   "outputs": [],
   "source": [
    "print(http_requests_syncs[http_requests_syncs.share_fp_cookie].shape[0])\n",
    "print(http_requests_syncs[http_requests_syncs.share_fp_cookie & http_requests_syncs.referred_by_third].shape[0])\n",
    "print(http_requests_syncs[http_requests_syncs.share_tp_cookie].shape[0])\n",
    "print(http_requests_syncs[http_requests_syncs.share_tp_cookie & http_requests_syncs.referred_by_third].shape[0])"
   ]
  },
  {
   "cell_type": "code",
   "execution_count": null,
   "metadata": {},
   "outputs": [],
   "source": [
    "print(http_requests_syncs[http_requests_syncs.share_fp_cookie][http_requests_syncs.cookies==\"\"].shape[0])\n",
    "print(http_requests_syncs[http_requests_syncs.share_fp_cookie][http_requests_syncs.cookies==\"\"][http_requests_syncs.referred_by_third].shape[0])\n",
    "print(http_requests_syncs[http_requests_syncs.share_tp_cookie][http_requests_syncs.cookies==\"\"].shape[0])\n",
    "print(http_requests_syncs[http_requests_syncs.share_tp_cookie][http_requests_syncs.cookies==\"\"][http_requests_syncs.referred_by_third].shape[0])"
   ]
  },
  {
   "cell_type": "code",
   "execution_count": null,
   "metadata": {},
   "outputs": [],
   "source": [
    "# http_requests_syncs[http_requests_syncs.is_diff_host & http_requests_syncs.share_tp_cookie].shape"
   ]
  },
  {
   "cell_type": "code",
   "execution_count": null,
   "metadata": {
    "scrolled": false
   },
   "outputs": [],
   "source": [
    "# only index 3\n",
    "print(http_requests_syncs[http_requests_syncs.visit_id==3][http_requests_syncs.share_fp_cookie].shape[0])\n",
    "print(http_requests_syncs[http_requests_syncs.visit_id==3][http_requests_syncs.share_fp_cookie][http_requests_syncs.referred_by_third].shape[0])\n",
    "print(http_requests_syncs[http_requests_syncs.visit_id==3][http_requests_syncs.share_tp_cookie].shape[0])\n",
    "print(http_requests_syncs[http_requests_syncs.visit_id==3][http_requests_syncs.share_tp_cookie][http_requests_syncs.referred_by_third].shape[0])"
   ]
  },
  {
   "cell_type": "code",
   "execution_count": null,
   "metadata": {},
   "outputs": [],
   "source": [
    "# only index 3\n",
    "print(http_requests_syncs[http_requests_syncs.visit_id==3][http_requests_syncs.cookies==\"\"][http_requests_syncs.share_fp_cookie].shape[0])\n",
    "print(http_requests_syncs[http_requests_syncs.visit_id==3][http_requests_syncs.cookies==\"\"][http_requests_syncs.share_fp_cookie][http_requests_syncs.referred_by_third].shape[0])\n",
    "print(http_requests_syncs[http_requests_syncs.visit_id==3][http_requests_syncs.cookies==\"\"][http_requests_syncs.share_tp_cookie].shape[0])\n",
    "print(http_requests_syncs[http_requests_syncs.visit_id==3][http_requests_syncs.cookies==\"\"][http_requests_syncs.share_tp_cookie][http_requests_syncs.referred_by_third].shape[0])\n"
   ]
  },
  {
   "cell_type": "code",
   "execution_count": null,
   "metadata": {},
   "outputs": [],
   "source": [
    "save_df_to_csv(http_requests_syncs, \"cookie_syncs_\" +file_name)"
   ]
  },
  {
   "cell_type": "code",
   "execution_count": null,
   "metadata": {},
   "outputs": [],
   "source": []
  }
 ],
 "metadata": {
  "kernelspec": {
   "display_name": "Python 3",
   "language": "python",
   "name": "python3"
  },
  "language_info": {
   "codemirror_mode": {
    "name": "ipython",
    "version": 3
   },
   "file_extension": ".py",
   "mimetype": "text/x-python",
   "name": "python",
   "nbconvert_exporter": "python",
   "pygments_lexer": "ipython3",
   "version": "3.7.6"
  }
 },
 "nbformat": 4,
 "nbformat_minor": 2
}
