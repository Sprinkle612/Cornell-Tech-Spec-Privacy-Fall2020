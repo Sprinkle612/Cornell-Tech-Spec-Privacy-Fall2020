{
 "cells": [
  {
   "cell_type": "code",
   "execution_count": 99,
   "metadata": {},
   "outputs": [],
   "source": [
    "import numpy as np\n",
    "import pandas as pd\n",
    "import sqlite3\n",
    "import sys\n",
    "import os\n",
    "import re\n",
    "from urllib.parse import urlparse"
   ]
  },
  {
   "cell_type": "code",
   "execution_count": 132,
   "metadata": {},
   "outputs": [],
   "source": [
    "data_path = 'exp-data/'\n",
    "file_name = \"nyt-t1\"\n",
    "sql_file = data_path + file_name + '.sqlite'"
   ]
  },
  {
   "cell_type": "code",
   "execution_count": 133,
   "metadata": {},
   "outputs": [],
   "source": [
    "query = \"\"\"SELECT sv.site_url, sv.visit_id,\n",
    "        hr.headers, hr.referrer, hr.url, hr.top_level_url\n",
    "        FROM http_requests as hr LEFT JOIN site_visits as sv\n",
    "        ON sv.visit_id = hr.visit_id\n",
    "        \"\"\""
   ]
  },
  {
   "cell_type": "code",
   "execution_count": 134,
   "metadata": {},
   "outputs": [],
   "source": [
    "conn = sqlite3.connect(sql_file)\n",
    "# http_requests = pd.read_sql_query(\"select visit_id, headers, referrer, url, top_level_url from http_requests;\", conn)\n",
    "http_requests = pd.read_sql_query(query, conn)"
   ]
  },
  {
   "cell_type": "code",
   "execution_count": 135,
   "metadata": {},
   "outputs": [],
   "source": [
    "cookies = pd.read_sql_query(\"select visit_id, record_type, change_cause, host, name, value from javascript_cookies;\", conn)"
   ]
  },
  {
   "cell_type": "code",
   "execution_count": 136,
   "metadata": {},
   "outputs": [],
   "source": [
    "def get_host_from_headers(x):\n",
    "    temp = x.replace('\"','').split('],[')\n",
    "    for t in temp:\n",
    "            pair = t.replace(']]','').replace('[[','').split(',')\n",
    "            if \"Host\" in pair:\n",
    "                host_value = pair[1]\n",
    "    return host_value\n",
    "\n",
    "def get_cookies_from_headers(x):\n",
    "    ls = x.replace('\"','').split('],[')\n",
    "    for l in ls:\n",
    "        ta = l.replace(']]','').split(',')\n",
    "        if \"Cookie\" in ta:\n",
    "            return ta[-1]\n",
    "    return ''\n",
    "def extract_host_from_url(url_ls):\n",
    "    return list(map(lambda x: urlparse(x).netloc.split('.')[1] if len(urlparse(x).netloc.split('.')) > 1 else x, url_ls))\n",
    "\n",
    "def get_site(site_url):\n",
    "    return site_url.split(\".\")[1]\n",
    "def is_third_party(origin, url_host):\n",
    "    if origin in url_host:\n",
    "        return False\n",
    "    return True\n",
    "def save_df_to_csv(df, file_name):\n",
    "    df.to_csv(file_name+'.csv', index=False)"
   ]
  },
  {
   "cell_type": "code",
   "execution_count": 137,
   "metadata": {},
   "outputs": [],
   "source": [
    "http_requests[\"host\"] = list(map(lambda x: get_host_from_headers(x), http_requests.headers.tolist()))\n",
    "http_requests[\"cookies\"] =  list(map(lambda x: get_cookies_from_headers(x), http_requests.headers.tolist()))\n",
    "http_requests[\"origin_site\"] = list(map(lambda x: get_site(x), http_requests.site_url))\n",
    "http_requests[\"is_third_party\"] = list(map(lambda a, b: is_third_party(a, b), http_requests.origin_site, http_requests.host))"
   ]
  },
  {
   "cell_type": "code",
   "execution_count": 138,
   "metadata": {},
   "outputs": [],
   "source": [
    "http_requests_third_party = http_requests[http_requests.is_third_party == True]\n"
   ]
  },
  {
   "cell_type": "code",
   "execution_count": 139,
   "metadata": {},
   "outputs": [],
   "source": [
    "query2 = \"\"\"SELECT sv.site_url, sv.visit_id,\n",
    "        jsc.host, jsc.name, jsc.value\n",
    "        FROM javascript_cookies as jsc LEFT JOIN site_visits as sv\n",
    "        ON sv.visit_id = jsc.visit_id\n",
    "        \"\"\"\n",
    "cookies = pd.read_sql_query(query2, conn)"
   ]
  },
  {
   "cell_type": "code",
   "execution_count": 140,
   "metadata": {},
   "outputs": [],
   "source": [
    "# query2 = \"select visit_id, record_type, change_cause, host, name, value, time_stamp from javascript_cookies;\"\n",
    "# \n",
    "cookies['origin_site'] = list(map(lambda x: get_site(x), cookies.site_url))\n",
    "cookies['is_third_party'] = list(map(lambda a, b: is_third_party(a, b), cookies.origin_site, cookies.host))"
   ]
  },
  {
   "cell_type": "code",
   "execution_count": 141,
   "metadata": {},
   "outputs": [],
   "source": [
    "cookies_first_party = cookies[cookies.is_third_party == False]\n",
    "cookies_third_party = cookies[cookies.is_third_party == True]"
   ]
  },
  {
   "cell_type": "code",
   "execution_count": 142,
   "metadata": {},
   "outputs": [],
   "source": [
    "# cookie_effective_values = [v.replace('|', '\\|').replace(\"-\", \"\\-\").replace(\"[\",'\\[').replace(']','\\]') for v in set(cookies.value) if len(v) > 5]\n",
    "cookie_effective_values = [re.escape(v) for v in set(cookies_first_party.value) if len(v) > 5]\n",
    "cookie_effective_all = [re.escape(v) for v in set(cookies.value) if len(v) > 5]\n",
    "cookie_tp_effective = [re.escape(v) for v in set(cookies_third_party.value) if len(v) > 5]"
   ]
  },
  {
   "cell_type": "code",
   "execution_count": 143,
   "metadata": {},
   "outputs": [],
   "source": [
    "fp_cookie_values = \"|\".join(cookie_effective_values)\n",
    "all_cookie_values = \"|\".join(cookie_effective_all)\n",
    "tp_cookie_values = \"|\".join(cookie_tp_effective)"
   ]
  },
  {
   "cell_type": "code",
   "execution_count": 144,
   "metadata": {},
   "outputs": [
    {
     "data": {
      "text/plain": [
       "(2576, 10)"
      ]
     },
     "execution_count": 144,
     "metadata": {},
     "output_type": "execute_result"
    }
   ],
   "source": [
    "http_requests_third_party.shape"
   ]
  },
  {
   "cell_type": "code",
   "execution_count": 145,
   "metadata": {},
   "outputs": [],
   "source": [
    "# df.loc[0:15,'A'] = 16"
   ]
  },
  {
   "cell_type": "code",
   "execution_count": 146,
   "metadata": {},
   "outputs": [],
   "source": [
    "http_requests_syncs = http_requests_third_party[http_requests_third_party.url.str.contains(all_cookie_values, regex=True)]"
   ]
  },
  {
   "cell_type": "code",
   "execution_count": 147,
   "metadata": {},
   "outputs": [
    {
     "data": {
      "text/plain": [
       "(609, 10)"
      ]
     },
     "execution_count": 147,
     "metadata": {},
     "output_type": "execute_result"
    }
   ],
   "source": [
    "http_requests_syncs.shape"
   ]
  },
  {
   "cell_type": "code",
   "execution_count": 148,
   "metadata": {},
   "outputs": [
    {
     "name": "stderr",
     "output_type": "stream",
     "text": [
      "/Users/rainyleon/anaconda3/lib/python3.6/site-packages/ipykernel_launcher.py:1: SettingWithCopyWarning: \n",
      "A value is trying to be set on a copy of a slice from a DataFrame.\n",
      "Try using .loc[row_indexer,col_indexer] = value instead\n",
      "\n",
      "See the caveats in the documentation: http://pandas.pydata.org/pandas-docs/stable/indexing.html#indexing-view-versus-copy\n",
      "  \"\"\"Entry point for launching an IPython kernel.\n",
      "/Users/rainyleon/anaconda3/lib/python3.6/site-packages/pandas/core/indexing.py:543: SettingWithCopyWarning: \n",
      "A value is trying to be set on a copy of a slice from a DataFrame.\n",
      "Try using .loc[row_indexer,col_indexer] = value instead\n",
      "\n",
      "See the caveats in the documentation: http://pandas.pydata.org/pandas-docs/stable/indexing.html#indexing-view-versus-copy\n",
      "  self.obj[item] = s\n",
      "/Users/rainyleon/anaconda3/lib/python3.6/site-packages/ipykernel_launcher.py:3: SettingWithCopyWarning: \n",
      "A value is trying to be set on a copy of a slice from a DataFrame.\n",
      "Try using .loc[row_indexer,col_indexer] = value instead\n",
      "\n",
      "See the caveats in the documentation: http://pandas.pydata.org/pandas-docs/stable/indexing.html#indexing-view-versus-copy\n",
      "  This is separate from the ipykernel package so we can avoid doing imports until\n"
     ]
    }
   ],
   "source": [
    "http_requests_syncs['share_fp_cookie'] = [False]*http_requests_syncs.shape[0]\n",
    "http_requests_syncs.loc[http_requests_syncs.url.str.contains(fp_cookie_values, regex=True).index, \"share_fp_cookie\"] = True\n",
    "http_requests_syncs['share_tp_cookie'] = [False]*http_requests_syncs.shape[0]\n",
    "http_requests_syncs.loc[http_requests_syncs.url.str.contains(tp_cookie_values, regex=True).index, \"share_tp_cookie\"] = True"
   ]
  },
  {
   "cell_type": "code",
   "execution_count": 149,
   "metadata": {},
   "outputs": [
    {
     "data": {
      "text/plain": [
       "(609, 12)"
      ]
     },
     "execution_count": 149,
     "metadata": {},
     "output_type": "execute_result"
    }
   ],
   "source": [
    "http_requests_syncs[http_requests_syncs.share_fp_cookie==True].shape"
   ]
  },
  {
   "cell_type": "code",
   "execution_count": 150,
   "metadata": {},
   "outputs": [
    {
     "data": {
      "text/plain": [
       "(609, 12)"
      ]
     },
     "execution_count": 150,
     "metadata": {},
     "output_type": "execute_result"
    }
   ],
   "source": [
    "http_requests_syncs[http_requests_syncs.share_tp_cookie==True].shape"
   ]
  },
  {
   "cell_type": "code",
   "execution_count": 151,
   "metadata": {},
   "outputs": [
    {
     "name": "stderr",
     "output_type": "stream",
     "text": [
      "/Users/rainyleon/anaconda3/lib/python3.6/site-packages/ipykernel_launcher.py:2: SettingWithCopyWarning: \n",
      "A value is trying to be set on a copy of a slice from a DataFrame.\n",
      "Try using .loc[row_indexer,col_indexer] = value instead\n",
      "\n",
      "See the caveats in the documentation: http://pandas.pydata.org/pandas-docs/stable/indexing.html#indexing-view-versus-copy\n",
      "  \n"
     ]
    }
   ],
   "source": [
    "# extract third party\n",
    "http_requests_syncs['referrer_host'] = list(map(lambda x: urlparse(x).netloc, http_requests_syncs.referrer))"
   ]
  },
  {
   "cell_type": "code",
   "execution_count": 152,
   "metadata": {},
   "outputs": [
    {
     "name": "stderr",
     "output_type": "stream",
     "text": [
      "/Users/rainyleon/anaconda3/lib/python3.6/site-packages/ipykernel_launcher.py:2: SettingWithCopyWarning: \n",
      "A value is trying to be set on a copy of a slice from a DataFrame.\n",
      "Try using .loc[row_indexer,col_indexer] = value instead\n",
      "\n",
      "See the caveats in the documentation: http://pandas.pydata.org/pandas-docs/stable/indexing.html#indexing-view-versus-copy\n",
      "  \n"
     ]
    }
   ],
   "source": [
    "# can tell wether referrer and url are different\n",
    "http_requests_syncs['is_diff_host'] = list(map(lambda a, b: a != b, http_requests_syncs.host, http_requests_syncs.referrer_host))"
   ]
  },
  {
   "cell_type": "code",
   "execution_count": 153,
   "metadata": {
    "scrolled": false
   },
   "outputs": [
    {
     "name": "stderr",
     "output_type": "stream",
     "text": [
      "/Users/rainyleon/anaconda3/lib/python3.6/site-packages/ipykernel_launcher.py:1: SettingWithCopyWarning: \n",
      "A value is trying to be set on a copy of a slice from a DataFrame.\n",
      "Try using .loc[row_indexer,col_indexer] = value instead\n",
      "\n",
      "See the caveats in the documentation: http://pandas.pydata.org/pandas-docs/stable/indexing.html#indexing-view-versus-copy\n",
      "  \"\"\"Entry point for launching an IPython kernel.\n"
     ]
    }
   ],
   "source": [
    "http_requests_syncs['referred_by_third'] = list(map(lambda a, b: is_third_party(a, b), http_requests_syncs.origin_site, http_requests_syncs.referrer_host))"
   ]
  },
  {
   "cell_type": "code",
   "execution_count": 154,
   "metadata": {},
   "outputs": [
    {
     "data": {
      "text/plain": [
       "(576, 15)"
      ]
     },
     "execution_count": 154,
     "metadata": {},
     "output_type": "execute_result"
    }
   ],
   "source": [
    "# cookie syncing referred by a different domain\n",
    "http_requests_syncs[http_requests_syncs.is_diff_host].shape"
   ]
  },
  {
   "cell_type": "code",
   "execution_count": 155,
   "metadata": {
    "scrolled": false
   },
   "outputs": [
    {
     "name": "stderr",
     "output_type": "stream",
     "text": [
      "/Users/rainyleon/anaconda3/lib/python3.6/site-packages/ipykernel_launcher.py:2: UserWarning: Boolean Series key will be reindexed to match DataFrame index.\n",
      "  \n"
     ]
    },
    {
     "data": {
      "text/plain": [
       "(47, 15)"
      ]
     },
     "execution_count": 155,
     "metadata": {},
     "output_type": "execute_result"
    }
   ],
   "source": [
    "# only index 3\n",
    "http_requests_syncs[http_requests_syncs.is_diff_host][http_requests_syncs.visit_id==3].shape"
   ]
  },
  {
   "cell_type": "code",
   "execution_count": 156,
   "metadata": {},
   "outputs": [
    {
     "name": "stderr",
     "output_type": "stream",
     "text": [
      "/Users/rainyleon/anaconda3/lib/python3.6/site-packages/ipykernel_launcher.py:2: UserWarning: Boolean Series key will be reindexed to match DataFrame index.\n",
      "  \n"
     ]
    },
    {
     "data": {
      "text/plain": [
       "(223, 15)"
      ]
     },
     "execution_count": 156,
     "metadata": {},
     "output_type": "execute_result"
    }
   ],
   "source": [
    "# cookie syncing between third parties \n",
    "http_requests_syncs[http_requests_syncs.is_diff_host][http_requests_syncs.referred_by_third].shape"
   ]
  },
  {
   "cell_type": "code",
   "execution_count": 157,
   "metadata": {},
   "outputs": [
    {
     "name": "stderr",
     "output_type": "stream",
     "text": [
      "/Users/rainyleon/anaconda3/lib/python3.6/site-packages/ipykernel_launcher.py:2: UserWarning: Boolean Series key will be reindexed to match DataFrame index.\n",
      "  \n"
     ]
    },
    {
     "data": {
      "text/plain": [
       "(235, 15)"
      ]
     },
     "execution_count": 157,
     "metadata": {},
     "output_type": "execute_result"
    }
   ],
   "source": [
    "# cookie not in header but in url\n",
    "http_requests_syncs[http_requests_syncs.is_diff_host][http_requests_syncs.cookies==\"\"].shape"
   ]
  },
  {
   "cell_type": "code",
   "execution_count": 55,
   "metadata": {},
   "outputs": [],
   "source": [
    "save_df_to_csv(http_requests_syncs, \"cookie_syncs_\" +file_name)"
   ]
  },
  {
   "cell_type": "code",
   "execution_count": null,
   "metadata": {},
   "outputs": [],
   "source": []
  }
 ],
 "metadata": {
  "kernelspec": {
   "display_name": "Python 3",
   "language": "python",
   "name": "python3"
  },
  "language_info": {
   "codemirror_mode": {
    "name": "ipython",
    "version": 3
   },
   "file_extension": ".py",
   "mimetype": "text/x-python",
   "name": "python",
   "nbconvert_exporter": "python",
   "pygments_lexer": "ipython3",
   "version": "3.6.8"
  }
 },
 "nbformat": 4,
 "nbformat_minor": 2
}
