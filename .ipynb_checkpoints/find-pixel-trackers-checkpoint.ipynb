{
 "cells": [
  {
   "cell_type": "code",
   "execution_count": 29,
   "metadata": {},
   "outputs": [],
   "source": [
    "import numpy as np\n",
    "import pandas as pd\n",
    "import sqlite3\n",
    "import sys\n",
    "import os\n",
    "import re\n",
    "from urllib.parse import urlparse"
   ]
  },
  {
   "cell_type": "code",
   "execution_count": 83,
   "metadata": {},
   "outputs": [],
   "source": [
    "def get_content_type_from_headers(x):\n",
    "    ls = x.replace('\"','').split('],[')\n",
    "    for l in ls:\n",
    "        ta = l.replace(']]','').split(',')\n",
    "        if \"content-type\" in ta:\n",
    "            return ta[-1]\n",
    "    return ''\n",
    "def get_content_length_from_headers(x):\n",
    "    ls = x.replace('\"','').split('],[')\n",
    "    for l in ls:\n",
    "        ta = l.replace(']]','').split(',')\n",
    "        if \"content-length\" in ta:\n",
    "            return int(ta[-1])\n",
    "    return 0\n",
    "def extract_host_from_url(url_ls):\n",
    "    return list(map(lambda x: urlparse(x).netloc.split('.')[1] if len(urlparse(x).netloc.split('.')) > 1 else urlparse(x).netloc, url_ls))\n",
    "def is_third_party(origin, url_host):\n",
    "    if origin in url_host:\n",
    "        return False\n",
    "    return True\n",
    "def extract_deep_clean_host(url):\n",
    "    s = url.strip(\".au\").strip('.uk')\n",
    "    return s.split('.')[-2] if len(s.split('.')) > 1 else s\n",
    "def save_df_to_csv(df, file_name):\n",
    "    df.to_csv(file_name+'.csv', index=False)"
   ]
  },
  {
   "cell_type": "code",
   "execution_count": 9,
   "metadata": {},
   "outputs": [],
   "source": [
    "data_path = \"exp-data/\"\n",
    "type_name = 'forbes'\n",
    "exp_type= 'c'\n",
    "file_name = type_name + exp_type\n",
    "sql_file = data_path + file_name + '.sqlite'"
   ]
  },
  {
   "cell_type": "code",
   "execution_count": 10,
   "metadata": {},
   "outputs": [],
   "source": [
    "query = \"\"\"SELECT sv.site_url, sv.visit_id,\n",
    "        hr.url, hr.headers\n",
    "        FROM http_responses as hr LEFT JOIN site_visits as sv\n",
    "        ON sv.visit_id = hr.visit_id\n",
    "        \"\"\""
   ]
  },
  {
   "cell_type": "code",
   "execution_count": 86,
   "metadata": {},
   "outputs": [],
   "source": [
    "def extract_tracker_table(type_name, exp_type, num):\n",
    "    sql_file = data_path + type_name + \"-\" + exp_type + str(num) + '.sqlite'\n",
    "    print(sql_file)\n",
    "    conn = sqlite3.connect(sql_file)\n",
    "    http_responses = pd.read_sql_query(query, conn)\n",
    "\n",
    "    http_responses['origin_site'] = extract_host_from_url(http_responses.site_url)\n",
    "    http_responses[\"url_host\"] = list(map(lambda x:urlparse(x).netloc, http_responses.url))\n",
    "    http_responses[\"content_type\"] = list(map(lambda x:get_content_type_from_headers(x), http_responses.headers))\n",
    "    http_responses[\"content_length\"] = list(map(lambda x:get_content_length_from_headers(x), http_responses.headers))\n",
    "    http_responses[\"url_host_name\"] = list(map(lambda x:extract_deep_clean_host(x), http_responses.url_host))\n",
    "\n",
    "    http_responses['is_third_party'] = list(map(lambda a, b: is_third_party(a, b), http_responses.origin_site, http_responses.url_host))\n",
    "\n",
    "    http_responses_images = http_responses[http_responses.content_type.str.contains('image')]\n",
    "    http_responses_images_trackers = http_responses_images[http_responses_images.content_length < 100000]\n",
    "\n",
    "    http_responses_images_trackers = http_responses_images_trackers[['origin_site', 'url_host', 'url_host_name','content_type', 'content_length', 'is_third_party']]\n",
    "\n",
    "    df = http_responses_images_trackers.groupby(['origin_site', 'url_host_name']).size().reset_index(name='count')\n",
    "    df['exp_type'] = [type_name] * df.shape[0]\n",
    "    df['exp_num'] = [exp_type+str(num)] * df.shape[0]\n",
    "    return df"
   ]
  },
  {
   "cell_type": "code",
   "execution_count": 87,
   "metadata": {},
   "outputs": [
    {
     "name": "stdout",
     "output_type": "stream",
     "text": [
      "exp-data/nyt-t1.sqlite\n",
      "exp-data/nyt-c1.sqlite\n",
      "exp-data/forbes-t1.sqlite\n",
      "exp-data/forbes-c1.sqlite\n",
      "exp-data/washington-t1.sqlite\n",
      "exp-data/washington-c1.sqlite\n",
      "exp-data/nyt-t2.sqlite\n",
      "exp-data/nyt-c2.sqlite\n",
      "exp-data/forbes-t2.sqlite\n",
      "exp-data/forbes-c2.sqlite\n",
      "exp-data/washington-t2.sqlite\n",
      "exp-data/washington-c2.sqlite\n",
      "exp-data/nyt-t3.sqlite\n",
      "exp-data/nyt-c3.sqlite\n",
      "exp-data/forbes-t3.sqlite\n",
      "exp-data/forbes-c3.sqlite\n",
      "exp-data/washington-t3.sqlite\n",
      "exp-data/washington-c3.sqlite\n",
      "exp-data/nyt-t4.sqlite\n",
      "exp-data/nyt-c4.sqlite\n",
      "exp-data/forbes-t4.sqlite\n",
      "exp-data/forbes-c4.sqlite\n",
      "exp-data/washington-t4.sqlite\n",
      "exp-data/washington-c4.sqlite\n",
      "exp-data/nyt-t5.sqlite\n",
      "exp-data/nyt-c5.sqlite\n",
      "exp-data/forbes-t5.sqlite\n",
      "exp-data/forbes-c5.sqlite\n",
      "exp-data/washington-t5.sqlite\n",
      "exp-data/washington-c5.sqlite\n"
     ]
    }
   ],
   "source": [
    "types = ['nyt', 'forbes', 'washington']\n",
    "exps = ['t', 'c']\n",
    "df_ls = []\n",
    "for i in range(1, 6):\n",
    "    for t in types:\n",
    "        for e in exps:\n",
    "            df = extract_tracker_table(t, e, i)\n",
    "            df_ls.append(df)"
   ]
  },
  {
   "cell_type": "code",
   "execution_count": 88,
   "metadata": {},
   "outputs": [],
   "source": [
    "result = pd.concat(df_ls)"
   ]
  },
  {
   "cell_type": "code",
   "execution_count": 98,
   "metadata": {},
   "outputs": [],
   "source": [
    "save_df_to_csv(result, 'image_trakers_count')"
   ]
  },
  {
   "cell_type": "code",
   "execution_count": 103,
   "metadata": {},
   "outputs": [],
   "source": [
    "trackers_t = result[result.exp_num.str.contains('t')].groupby(['exp_type', 'origin_site', 'url_host_name'])['count'].sum().reset_index(name='sum')"
   ]
  },
  {
   "cell_type": "code",
   "execution_count": 104,
   "metadata": {},
   "outputs": [],
   "source": [
    "trackers_c = result[result.exp_num.str.contains('c')].groupby(['exp_type', 'origin_site', 'url_host_name'])['count'].sum().reset_index(name='sum')"
   ]
  },
  {
   "cell_type": "code",
   "execution_count": 114,
   "metadata": {},
   "outputs": [],
   "source": [
    "combined_trackers = pd.merge(trackers_c, trackers_t, on=['exp_type','origin_site', 'url_host_name'], how='outer', suffixes=('_control', '_treatment'))\n",
    "\n",
    "# trackers_t.join(trackers_c, on=['exp_type','origin_site', 'url_host_name'],  how='outer')"
   ]
  },
  {
   "cell_type": "code",
   "execution_count": 124,
   "metadata": {},
   "outputs": [],
   "source": [
    "combined_trackers = combined_trackers.fillna(0)"
   ]
  },
  {
   "cell_type": "code",
   "execution_count": 126,
   "metadata": {},
   "outputs": [
    {
     "data": {
      "text/plain": [
       "(166, 5)"
      ]
     },
     "execution_count": 126,
     "metadata": {},
     "output_type": "execute_result"
    }
   ],
   "source": [
    "combined_trackers[combined_trackers.sum_control < combined_trackers.sum_treatment].shape"
   ]
  },
  {
   "cell_type": "code",
   "execution_count": 127,
   "metadata": {},
   "outputs": [
    {
     "data": {
      "text/plain": [
       "(84, 5)"
      ]
     },
     "execution_count": 127,
     "metadata": {},
     "output_type": "execute_result"
    }
   ],
   "source": [
    "combined_trackers[combined_trackers.sum_control > combined_trackers.sum_treatment].shape"
   ]
  },
  {
   "cell_type": "code",
   "execution_count": 128,
   "metadata": {},
   "outputs": [
    {
     "data": {
      "text/plain": [
       "(31, 5)"
      ]
     },
     "execution_count": 128,
     "metadata": {},
     "output_type": "execute_result"
    }
   ],
   "source": [
    "combined_trackers[combined_trackers.sum_control == combined_trackers.sum_treatment].shape"
   ]
  },
  {
   "cell_type": "code",
   "execution_count": 129,
   "metadata": {},
   "outputs": [],
   "source": [
    "save_df_to_csv(combined_trackers, 'image_trakers_combined')"
   ]
  },
  {
   "cell_type": "code",
   "execution_count": 143,
   "metadata": {},
   "outputs": [],
   "source": [
    "result['exp_group'] = list(map(lambda x: x[0], result.exp_num))\n",
    "result['exp_index'] = list(map(lambda x: x[1], result.exp_num))"
   ]
  },
  {
   "cell_type": "code",
   "execution_count": 138,
   "metadata": {},
   "outputs": [
    {
     "data": {
      "text/html": [
       "<div>\n",
       "<style scoped>\n",
       "    .dataframe tbody tr th:only-of-type {\n",
       "        vertical-align: middle;\n",
       "    }\n",
       "\n",
       "    .dataframe tbody tr th {\n",
       "        vertical-align: top;\n",
       "    }\n",
       "\n",
       "    .dataframe thead th {\n",
       "        text-align: right;\n",
       "    }\n",
       "</style>\n",
       "<table border=\"1\" class=\"dataframe\">\n",
       "  <thead>\n",
       "    <tr style=\"text-align: right;\">\n",
       "      <th></th>\n",
       "      <th>exp_type</th>\n",
       "      <th>origin_site</th>\n",
       "      <th>level_2</th>\n",
       "      <th>0</th>\n",
       "    </tr>\n",
       "  </thead>\n",
       "  <tbody>\n",
       "    <tr>\n",
       "      <th>0</th>\n",
       "      <td>forbes</td>\n",
       "      <td>forbes</td>\n",
       "      <td>sum_control</td>\n",
       "      <td>438.0</td>\n",
       "    </tr>\n",
       "    <tr>\n",
       "      <th>1</th>\n",
       "      <td>forbes</td>\n",
       "      <td>forbes</td>\n",
       "      <td>sum_treatment</td>\n",
       "      <td>454.0</td>\n",
       "    </tr>\n",
       "    <tr>\n",
       "      <th>2</th>\n",
       "      <td>forbes</td>\n",
       "      <td>mayoclinic</td>\n",
       "      <td>sum_control</td>\n",
       "      <td>661.0</td>\n",
       "    </tr>\n",
       "    <tr>\n",
       "      <th>3</th>\n",
       "      <td>forbes</td>\n",
       "      <td>mayoclinic</td>\n",
       "      <td>sum_treatment</td>\n",
       "      <td>1099.0</td>\n",
       "    </tr>\n",
       "    <tr>\n",
       "      <th>4</th>\n",
       "      <td>forbes</td>\n",
       "      <td>webmd</td>\n",
       "      <td>sum_control</td>\n",
       "      <td>2035.0</td>\n",
       "    </tr>\n",
       "    <tr>\n",
       "      <th>5</th>\n",
       "      <td>forbes</td>\n",
       "      <td>webmd</td>\n",
       "      <td>sum_treatment</td>\n",
       "      <td>1793.0</td>\n",
       "    </tr>\n",
       "    <tr>\n",
       "      <th>6</th>\n",
       "      <td>nyt</td>\n",
       "      <td>mayoclinic</td>\n",
       "      <td>sum_control</td>\n",
       "      <td>640.0</td>\n",
       "    </tr>\n",
       "    <tr>\n",
       "      <th>7</th>\n",
       "      <td>nyt</td>\n",
       "      <td>mayoclinic</td>\n",
       "      <td>sum_treatment</td>\n",
       "      <td>1233.0</td>\n",
       "    </tr>\n",
       "    <tr>\n",
       "      <th>8</th>\n",
       "      <td>nyt</td>\n",
       "      <td>nytimes</td>\n",
       "      <td>sum_control</td>\n",
       "      <td>495.0</td>\n",
       "    </tr>\n",
       "    <tr>\n",
       "      <th>9</th>\n",
       "      <td>nyt</td>\n",
       "      <td>nytimes</td>\n",
       "      <td>sum_treatment</td>\n",
       "      <td>537.0</td>\n",
       "    </tr>\n",
       "    <tr>\n",
       "      <th>10</th>\n",
       "      <td>nyt</td>\n",
       "      <td>webmd</td>\n",
       "      <td>sum_control</td>\n",
       "      <td>2191.0</td>\n",
       "    </tr>\n",
       "    <tr>\n",
       "      <th>11</th>\n",
       "      <td>nyt</td>\n",
       "      <td>webmd</td>\n",
       "      <td>sum_treatment</td>\n",
       "      <td>1648.0</td>\n",
       "    </tr>\n",
       "    <tr>\n",
       "      <th>12</th>\n",
       "      <td>washington</td>\n",
       "      <td>mayoclinic</td>\n",
       "      <td>sum_control</td>\n",
       "      <td>586.0</td>\n",
       "    </tr>\n",
       "    <tr>\n",
       "      <th>13</th>\n",
       "      <td>washington</td>\n",
       "      <td>mayoclinic</td>\n",
       "      <td>sum_treatment</td>\n",
       "      <td>1093.0</td>\n",
       "    </tr>\n",
       "    <tr>\n",
       "      <th>14</th>\n",
       "      <td>washington</td>\n",
       "      <td>washingtonpost</td>\n",
       "      <td>sum_control</td>\n",
       "      <td>341.0</td>\n",
       "    </tr>\n",
       "    <tr>\n",
       "      <th>15</th>\n",
       "      <td>washington</td>\n",
       "      <td>washingtonpost</td>\n",
       "      <td>sum_treatment</td>\n",
       "      <td>343.0</td>\n",
       "    </tr>\n",
       "    <tr>\n",
       "      <th>16</th>\n",
       "      <td>washington</td>\n",
       "      <td>webmd</td>\n",
       "      <td>sum_control</td>\n",
       "      <td>1835.0</td>\n",
       "    </tr>\n",
       "    <tr>\n",
       "      <th>17</th>\n",
       "      <td>washington</td>\n",
       "      <td>webmd</td>\n",
       "      <td>sum_treatment</td>\n",
       "      <td>1682.0</td>\n",
       "    </tr>\n",
       "  </tbody>\n",
       "</table>\n",
       "</div>"
      ],
      "text/plain": [
       "      exp_type     origin_site        level_2       0\n",
       "0       forbes          forbes    sum_control   438.0\n",
       "1       forbes          forbes  sum_treatment   454.0\n",
       "2       forbes      mayoclinic    sum_control   661.0\n",
       "3       forbes      mayoclinic  sum_treatment  1099.0\n",
       "4       forbes           webmd    sum_control  2035.0\n",
       "5       forbes           webmd  sum_treatment  1793.0\n",
       "6          nyt      mayoclinic    sum_control   640.0\n",
       "7          nyt      mayoclinic  sum_treatment  1233.0\n",
       "8          nyt         nytimes    sum_control   495.0\n",
       "9          nyt         nytimes  sum_treatment   537.0\n",
       "10         nyt           webmd    sum_control  2191.0\n",
       "11         nyt           webmd  sum_treatment  1648.0\n",
       "12  washington      mayoclinic    sum_control   586.0\n",
       "13  washington      mayoclinic  sum_treatment  1093.0\n",
       "14  washington  washingtonpost    sum_control   341.0\n",
       "15  washington  washingtonpost  sum_treatment   343.0\n",
       "16  washington           webmd    sum_control  1835.0\n",
       "17  washington           webmd  sum_treatment  1682.0"
      ]
     },
     "execution_count": 138,
     "metadata": {},
     "output_type": "execute_result"
    }
   ],
   "source": [
    "combined_trackers.groupby(['exp_type', 'origin_site'])[['sum_control', 'sum_treatment']].sum().stack().reset_index()"
   ]
  },
  {
   "cell_type": "code",
   "execution_count": 146,
   "metadata": {},
   "outputs": [],
   "source": [
    "for_model = result.groupby(['exp_index', 'exp_group', 'exp_type', 'origin_site'])['count'].sum().reset_index(name='sum')"
   ]
  },
  {
   "cell_type": "code",
   "execution_count": 147,
   "metadata": {},
   "outputs": [],
   "source": [
    "save_df_to_csv(for_model, \"pixel_tracker_for_model\")"
   ]
  },
  {
   "cell_type": "code",
   "execution_count": null,
   "metadata": {},
   "outputs": [],
   "source": []
  }
 ],
 "metadata": {
  "kernelspec": {
   "display_name": "Python 3",
   "language": "python",
   "name": "python3"
  },
  "language_info": {
   "codemirror_mode": {
    "name": "ipython",
    "version": 3
   },
   "file_extension": ".py",
   "mimetype": "text/x-python",
   "name": "python",
   "nbconvert_exporter": "python",
   "pygments_lexer": "ipython3",
   "version": "3.6.8"
  }
 },
 "nbformat": 4,
 "nbformat_minor": 2
}
