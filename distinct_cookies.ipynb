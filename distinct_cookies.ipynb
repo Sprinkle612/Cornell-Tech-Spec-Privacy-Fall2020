{
 "cells": [
  {
   "cell_type": "code",
   "execution_count": 159,
   "metadata": {},
   "outputs": [],
   "source": [
    "import numpy as np\n",
    "import pandas as pd\n",
    "import sqlite3\n",
    "import sys\n",
    "import os\n",
    "\n",
    "def clean_host(host):\n",
    "    return host.split('.')[-2]\n",
    "\n",
    "def get_site(site_url):\n",
    "    return site_url.split(\".\")[1]\n",
    "\n",
    "def is_third_party(origin, cookie_host):\n",
    "    if origin in cookie_host:\n",
    "        return False\n",
    "    return True\n"
   ]
  },
  {
   "cell_type": "code",
   "execution_count": 174,
   "metadata": {},
   "outputs": [
    {
     "data": {
      "text/html": [
       "<div>\n",
       "<style scoped>\n",
       "    .dataframe tbody tr th:only-of-type {\n",
       "        vertical-align: middle;\n",
       "    }\n",
       "\n",
       "    .dataframe tbody tr th {\n",
       "        vertical-align: top;\n",
       "    }\n",
       "\n",
       "    .dataframe thead th {\n",
       "        text-align: right;\n",
       "    }\n",
       "</style>\n",
       "<table border=\"1\" class=\"dataframe\">\n",
       "  <thead>\n",
       "    <tr style=\"text-align: right;\">\n",
       "      <th></th>\n",
       "      <th>site_url</th>\n",
       "      <th>visit_id</th>\n",
       "      <th>host</th>\n",
       "      <th>name</th>\n",
       "      <th>value</th>\n",
       "    </tr>\n",
       "  </thead>\n",
       "  <tbody>\n",
       "    <tr>\n",
       "      <th>0</th>\n",
       "      <td>https://www.webmd.com/</td>\n",
       "      <td>1</td>\n",
       "      <td>.www.webmd.com</td>\n",
       "      <td>__cfduid</td>\n",
       "      <td>dd673b2700baa134208e3794c02eec1f41606506583</td>\n",
       "    </tr>\n",
       "    <tr>\n",
       "      <th>1</th>\n",
       "      <td>https://www.webmd.com/</td>\n",
       "      <td>1</td>\n",
       "      <td>.webmd.com</td>\n",
       "      <td>lrt_wrk</td>\n",
       "      <td>lrt1_cached_k8_worker_1_37S_21O_2020-11-18_17:...</td>\n",
       "    </tr>\n",
       "    <tr>\n",
       "      <th>2</th>\n",
       "      <td>https://www.webmd.com/</td>\n",
       "      <td>1</td>\n",
       "      <td>.webmd.com</td>\n",
       "      <td>gtinfo</td>\n",
       "      <td>{\"ct\":\"Columbus\",\"c\":\"Franklin\",\"cc\":\"39049\",\"...</td>\n",
       "    </tr>\n",
       "    <tr>\n",
       "      <th>3</th>\n",
       "      <td>https://www.webmd.com/</td>\n",
       "      <td>1</td>\n",
       "      <td>.webmd.com</td>\n",
       "      <td>VisitorId</td>\n",
       "      <td>9831e05f-086b-4123-5987-f9b5df875967</td>\n",
       "    </tr>\n",
       "    <tr>\n",
       "      <th>4</th>\n",
       "      <td>https://www.webmd.com/</td>\n",
       "      <td>1</td>\n",
       "      <td>.css.webmd.com</td>\n",
       "      <td>__cfduid</td>\n",
       "      <td>dc560e081e9789ea111079dc63ad819771606506583</td>\n",
       "    </tr>\n",
       "    <tr>\n",
       "      <th>...</th>\n",
       "      <td>...</td>\n",
       "      <td>...</td>\n",
       "      <td>...</td>\n",
       "      <td>...</td>\n",
       "      <td>...</td>\n",
       "    </tr>\n",
       "    <tr>\n",
       "      <th>1391</th>\n",
       "      <td>https://www.nytimes.com/</td>\n",
       "      <td>3</td>\n",
       "      <td>.yahoo.com</td>\n",
       "      <td>GUC</td>\n",
       "      <td>AQEBAQFfwqtfy0IcvQQZ</td>\n",
       "    </tr>\n",
       "    <tr>\n",
       "      <th>1392</th>\n",
       "      <td>https://www.nytimes.com/</td>\n",
       "      <td>3</td>\n",
       "      <td>.pubmatic.com</td>\n",
       "      <td>KTPCACOOKIE</td>\n",
       "      <td>YES</td>\n",
       "    </tr>\n",
       "    <tr>\n",
       "      <th>1393</th>\n",
       "      <td>https://www.nytimes.com/</td>\n",
       "      <td>3</td>\n",
       "      <td>.analytics.yahoo.com</td>\n",
       "      <td>IDSYNC</td>\n",
       "      <td>18y3~1v0j</td>\n",
       "    </tr>\n",
       "    <tr>\n",
       "      <th>1394</th>\n",
       "      <td>https://www.nytimes.com/</td>\n",
       "      <td>3</td>\n",
       "      <td>.ads.pubmatic.com</td>\n",
       "      <td>KCCH</td>\n",
       "      <td>YES</td>\n",
       "    </tr>\n",
       "    <tr>\n",
       "      <th>1395</th>\n",
       "      <td>https://www.nytimes.com/</td>\n",
       "      <td>3</td>\n",
       "      <td>.pubmatic.com</td>\n",
       "      <td>pi</td>\n",
       "      <td>156011:2</td>\n",
       "    </tr>\n",
       "  </tbody>\n",
       "</table>\n",
       "<p>1396 rows × 5 columns</p>\n",
       "</div>"
      ],
      "text/plain": [
       "                      site_url  visit_id                  host         name  \\\n",
       "0       https://www.webmd.com/         1        .www.webmd.com     __cfduid   \n",
       "1       https://www.webmd.com/         1            .webmd.com      lrt_wrk   \n",
       "2       https://www.webmd.com/         1            .webmd.com       gtinfo   \n",
       "3       https://www.webmd.com/         1            .webmd.com    VisitorId   \n",
       "4       https://www.webmd.com/         1        .css.webmd.com     __cfduid   \n",
       "...                        ...       ...                   ...          ...   \n",
       "1391  https://www.nytimes.com/         3            .yahoo.com          GUC   \n",
       "1392  https://www.nytimes.com/         3         .pubmatic.com  KTPCACOOKIE   \n",
       "1393  https://www.nytimes.com/         3  .analytics.yahoo.com       IDSYNC   \n",
       "1394  https://www.nytimes.com/         3     .ads.pubmatic.com         KCCH   \n",
       "1395  https://www.nytimes.com/         3         .pubmatic.com           pi   \n",
       "\n",
       "                                                  value  \n",
       "0           dd673b2700baa134208e3794c02eec1f41606506583  \n",
       "1     lrt1_cached_k8_worker_1_37S_21O_2020-11-18_17:...  \n",
       "2     {\"ct\":\"Columbus\",\"c\":\"Franklin\",\"cc\":\"39049\",\"...  \n",
       "3                  9831e05f-086b-4123-5987-f9b5df875967  \n",
       "4           dc560e081e9789ea111079dc63ad819771606506583  \n",
       "...                                                 ...  \n",
       "1391                               AQEBAQFfwqtfy0IcvQQZ  \n",
       "1392                                                YES  \n",
       "1393                                          18y3~1v0j  \n",
       "1394                                                YES  \n",
       "1395                                           156011:2  \n",
       "\n",
       "[1396 rows x 5 columns]"
      ]
     },
     "execution_count": 174,
     "metadata": {},
     "output_type": "execute_result"
    }
   ],
   "source": [
    "sql_file = 'exp-data/nyt-c1.sqlite' \n",
    "    \n",
    "###### javascript cookies  ######\n",
    "query = \"\"\"SELECT sv.site_url, sv.visit_id,\n",
    "        jsc.host, jsc.name, jsc.value\n",
    "        FROM javascript_cookies as jsc LEFT JOIN site_visits as sv\n",
    "        ON sv.visit_id = jsc.visit_id\n",
    "        \"\"\"\n",
    "\n",
    "conn = sqlite3.connect(sql_file)\n",
    "\n",
    "cookies = pd.read_sql_query(query, conn)\n",
    "cookies"
   ]
  },
  {
   "cell_type": "code",
   "execution_count": 175,
   "metadata": {},
   "outputs": [],
   "source": [
    "cookies['origin_site'] = list(map(lambda x: get_site(x), cookies.site_url))\n",
    "cookies[\"host\"] = list(map(lambda x: clean_host(x), cookies.host.tolist()))\n",
    "cookies[\"is_third_party\"] = list(map(lambda a, b: is_third_party(a, b), cookies.origin_site, cookies.host))"
   ]
  },
  {
   "cell_type": "code",
   "execution_count": 176,
   "metadata": {},
   "outputs": [],
   "source": [
    "# 95 unique host -> after clean the host: 67\n",
    "# cookies.host.unique()"
   ]
  },
  {
   "cell_type": "code",
   "execution_count": 177,
   "metadata": {},
   "outputs": [],
   "source": [
    "cookies = cookies[[\"visit_id\", \"origin_site\", \"host\", \"name\", \"value\", \"is_third_party\"]]"
   ]
  },
  {
   "cell_type": "code",
   "execution_count": 178,
   "metadata": {},
   "outputs": [],
   "source": [
    "# drop duplicate: 1396 -> 539\n",
    "cookies = cookies.drop_duplicates().reset_index(drop = True)"
   ]
  },
  {
   "cell_type": "code",
   "execution_count": 179,
   "metadata": {},
   "outputs": [
    {
     "data": {
      "text/html": [
       "<div>\n",
       "<style scoped>\n",
       "    .dataframe tbody tr th:only-of-type {\n",
       "        vertical-align: middle;\n",
       "    }\n",
       "\n",
       "    .dataframe tbody tr th {\n",
       "        vertical-align: top;\n",
       "    }\n",
       "\n",
       "    .dataframe thead th {\n",
       "        text-align: right;\n",
       "    }\n",
       "</style>\n",
       "<table border=\"1\" class=\"dataframe\">\n",
       "  <thead>\n",
       "    <tr style=\"text-align: right;\">\n",
       "      <th></th>\n",
       "      <th>visit_id</th>\n",
       "      <th>origin_site</th>\n",
       "      <th>host</th>\n",
       "      <th>name</th>\n",
       "      <th>value</th>\n",
       "      <th>is_third_party</th>\n",
       "    </tr>\n",
       "  </thead>\n",
       "  <tbody>\n",
       "    <tr>\n",
       "      <th>0</th>\n",
       "      <td>1</td>\n",
       "      <td>webmd</td>\n",
       "      <td>webmd</td>\n",
       "      <td>__cfduid</td>\n",
       "      <td>dd673b2700baa134208e3794c02eec1f41606506583</td>\n",
       "      <td>False</td>\n",
       "    </tr>\n",
       "    <tr>\n",
       "      <th>1</th>\n",
       "      <td>1</td>\n",
       "      <td>webmd</td>\n",
       "      <td>webmd</td>\n",
       "      <td>lrt_wrk</td>\n",
       "      <td>lrt1_cached_k8_worker_1_37S_21O_2020-11-18_17:...</td>\n",
       "      <td>False</td>\n",
       "    </tr>\n",
       "    <tr>\n",
       "      <th>2</th>\n",
       "      <td>1</td>\n",
       "      <td>webmd</td>\n",
       "      <td>webmd</td>\n",
       "      <td>gtinfo</td>\n",
       "      <td>{\"ct\":\"Columbus\",\"c\":\"Franklin\",\"cc\":\"39049\",\"...</td>\n",
       "      <td>False</td>\n",
       "    </tr>\n",
       "    <tr>\n",
       "      <th>3</th>\n",
       "      <td>1</td>\n",
       "      <td>webmd</td>\n",
       "      <td>webmd</td>\n",
       "      <td>VisitorId</td>\n",
       "      <td>9831e05f-086b-4123-5987-f9b5df875967</td>\n",
       "      <td>False</td>\n",
       "    </tr>\n",
       "    <tr>\n",
       "      <th>4</th>\n",
       "      <td>1</td>\n",
       "      <td>webmd</td>\n",
       "      <td>webmd</td>\n",
       "      <td>__cfduid</td>\n",
       "      <td>dc560e081e9789ea111079dc63ad819771606506583</td>\n",
       "      <td>False</td>\n",
       "    </tr>\n",
       "    <tr>\n",
       "      <th>...</th>\n",
       "      <td>...</td>\n",
       "      <td>...</td>\n",
       "      <td>...</td>\n",
       "      <td>...</td>\n",
       "      <td>...</td>\n",
       "      <td>...</td>\n",
       "    </tr>\n",
       "    <tr>\n",
       "      <th>534</th>\n",
       "      <td>3</td>\n",
       "      <td>nytimes</td>\n",
       "      <td>yahoo</td>\n",
       "      <td>A3</td>\n",
       "      <td>d=AQABBIdZwV8CEAePsjTU5cRNE7tmBgFkr9IFEgEBAQGr...</td>\n",
       "      <td>True</td>\n",
       "    </tr>\n",
       "    <tr>\n",
       "      <th>535</th>\n",
       "      <td>3</td>\n",
       "      <td>nytimes</td>\n",
       "      <td>pubmatic</td>\n",
       "      <td>KTPCACOOKIE</td>\n",
       "      <td>YES</td>\n",
       "      <td>True</td>\n",
       "    </tr>\n",
       "    <tr>\n",
       "      <th>536</th>\n",
       "      <td>3</td>\n",
       "      <td>nytimes</td>\n",
       "      <td>yahoo</td>\n",
       "      <td>IDSYNC</td>\n",
       "      <td>18y3~1v0j</td>\n",
       "      <td>True</td>\n",
       "    </tr>\n",
       "    <tr>\n",
       "      <th>537</th>\n",
       "      <td>3</td>\n",
       "      <td>nytimes</td>\n",
       "      <td>pubmatic</td>\n",
       "      <td>KCCH</td>\n",
       "      <td>YES</td>\n",
       "      <td>True</td>\n",
       "    </tr>\n",
       "    <tr>\n",
       "      <th>538</th>\n",
       "      <td>3</td>\n",
       "      <td>nytimes</td>\n",
       "      <td>pubmatic</td>\n",
       "      <td>pi</td>\n",
       "      <td>156011:2</td>\n",
       "      <td>True</td>\n",
       "    </tr>\n",
       "  </tbody>\n",
       "</table>\n",
       "<p>539 rows × 6 columns</p>\n",
       "</div>"
      ],
      "text/plain": [
       "     visit_id origin_site      host         name  \\\n",
       "0           1       webmd     webmd     __cfduid   \n",
       "1           1       webmd     webmd      lrt_wrk   \n",
       "2           1       webmd     webmd       gtinfo   \n",
       "3           1       webmd     webmd    VisitorId   \n",
       "4           1       webmd     webmd     __cfduid   \n",
       "..        ...         ...       ...          ...   \n",
       "534         3     nytimes     yahoo           A3   \n",
       "535         3     nytimes  pubmatic  KTPCACOOKIE   \n",
       "536         3     nytimes     yahoo       IDSYNC   \n",
       "537         3     nytimes  pubmatic         KCCH   \n",
       "538         3     nytimes  pubmatic           pi   \n",
       "\n",
       "                                                 value  is_third_party  \n",
       "0          dd673b2700baa134208e3794c02eec1f41606506583           False  \n",
       "1    lrt1_cached_k8_worker_1_37S_21O_2020-11-18_17:...           False  \n",
       "2    {\"ct\":\"Columbus\",\"c\":\"Franklin\",\"cc\":\"39049\",\"...           False  \n",
       "3                 9831e05f-086b-4123-5987-f9b5df875967           False  \n",
       "4          dc560e081e9789ea111079dc63ad819771606506583           False  \n",
       "..                                                 ...             ...  \n",
       "534  d=AQABBIdZwV8CEAePsjTU5cRNE7tmBgFkr9IFEgEBAQGr...            True  \n",
       "535                                                YES            True  \n",
       "536                                          18y3~1v0j            True  \n",
       "537                                                YES            True  \n",
       "538                                           156011:2            True  \n",
       "\n",
       "[539 rows x 6 columns]"
      ]
     },
     "execution_count": 179,
     "metadata": {},
     "output_type": "execute_result"
    }
   ],
   "source": [
    "cookies"
   ]
  },
  {
   "cell_type": "code",
   "execution_count": 180,
   "metadata": {},
   "outputs": [
    {
     "data": {
      "text/plain": [
       "100"
      ]
     },
     "execution_count": 180,
     "metadata": {},
     "output_type": "execute_result"
    }
   ],
   "source": [
    "# cookies[cookies.is_third_party & (cookies.visit_id == 3)]\n",
    "cookies[(cookies.visit_id == 3)].shape[0]"
   ]
  },
  {
   "cell_type": "code",
   "execution_count": 144,
   "metadata": {},
   "outputs": [
    {
     "name": "stderr",
     "output_type": "stream",
     "text": [
      "/opt/anaconda3/lib/python3.7/site-packages/ipykernel_launcher.py:1: FutureWarning: Indexing with multiple keys (implicitly converted to a tuple of keys) will be deprecated, use a list instead.\n",
      "  \"\"\"Entry point for launching an IPython kernel.\n"
     ]
    },
    {
     "data": {
      "text/plain": [
       "host\n",
       "1rx                 4\n",
       "3lift               8\n",
       "acuityplatform      3\n",
       "addthis             4\n",
       "adentifi            4\n",
       "                 ... \n",
       "webmd             154\n",
       "yahoo              21\n",
       "yieldmo             7\n",
       "youtube             2\n",
       "zemanta             2\n",
       "Length: 99, dtype: int64"
      ]
     },
     "execution_count": 144,
     "metadata": {},
     "output_type": "execute_result"
    }
   ],
   "source": [
    "cookies.groupby('host',as_index=False)[\"host\", \"name\", \"value\"].size()"
   ]
  },
  {
   "cell_type": "code",
   "execution_count": 142,
   "metadata": {},
   "outputs": [
    {
     "name": "stderr",
     "output_type": "stream",
     "text": [
      "/opt/anaconda3/lib/python3.7/site-packages/ipykernel_launcher.py:3: FutureWarning: Indexing with multiple keys (implicitly converted to a tuple of keys) will be deprecated, use a list instead.\n",
      "  This is separate from the ipykernel package so we can avoid doing imports until\n"
     ]
    },
    {
     "data": {
      "text/plain": [
       "host\n",
       "pubmatic          18\n",
       "rubiconproject    14\n",
       "media              8\n",
       "adsrvr             7\n",
       "casalemedia        5\n",
       "dtype: int64"
      ]
     },
     "execution_count": 142,
     "metadata": {},
     "output_type": "execute_result"
    }
   ],
   "source": [
    "# make sure to use brackets when filtering visit_id == 3\n",
    "temp = cookies[(cookies.visit_id == 3) & cookies.is_third_party]\n",
    "temp.groupby('host',as_index=False)[\"host\", \"name\", \"value\"].size().nlargest(5)"
   ]
  },
  {
   "cell_type": "code",
   "execution_count": 131,
   "metadata": {},
   "outputs": [
    {
     "name": "stderr",
     "output_type": "stream",
     "text": [
      "/opt/anaconda3/lib/python3.7/site-packages/ipykernel_launcher.py:1: FutureWarning: Indexing with multiple keys (implicitly converted to a tuple of keys) will be deprecated, use a list instead.\n",
      "  \"\"\"Entry point for launching an IPython kernel.\n"
     ]
    },
    {
     "data": {
      "text/html": [
       "<div>\n",
       "<style scoped>\n",
       "    .dataframe tbody tr th:only-of-type {\n",
       "        vertical-align: middle;\n",
       "    }\n",
       "\n",
       "    .dataframe tbody tr th {\n",
       "        vertical-align: top;\n",
       "    }\n",
       "\n",
       "    .dataframe thead th {\n",
       "        text-align: right;\n",
       "    }\n",
       "</style>\n",
       "<table border=\"1\" class=\"dataframe\">\n",
       "  <thead>\n",
       "    <tr style=\"text-align: right;\">\n",
       "      <th></th>\n",
       "      <th>host</th>\n",
       "      <th>name</th>\n",
       "      <th>value</th>\n",
       "    </tr>\n",
       "    <tr>\n",
       "      <th>origin_site</th>\n",
       "      <th></th>\n",
       "      <th></th>\n",
       "      <th></th>\n",
       "    </tr>\n",
       "  </thead>\n",
       "  <tbody>\n",
       "    <tr>\n",
       "      <th>mayoclinic</th>\n",
       "      <td>11</td>\n",
       "      <td>47</td>\n",
       "      <td>76</td>\n",
       "    </tr>\n",
       "    <tr>\n",
       "      <th>nytimes</th>\n",
       "      <td>25</td>\n",
       "      <td>80</td>\n",
       "      <td>94</td>\n",
       "    </tr>\n",
       "    <tr>\n",
       "      <th>webmd</th>\n",
       "      <td>57</td>\n",
       "      <td>186</td>\n",
       "      <td>322</td>\n",
       "    </tr>\n",
       "  </tbody>\n",
       "</table>\n",
       "</div>"
      ],
      "text/plain": [
       "             host  name  value\n",
       "origin_site                   \n",
       "mayoclinic     11    47     76\n",
       "nytimes        25    80     94\n",
       "webmd          57   186    322"
      ]
     },
     "execution_count": 131,
     "metadata": {},
     "output_type": "execute_result"
    }
   ],
   "source": [
    "cookies.groupby('origin_site')[\"host\", \"name\", \"value\"].nunique()"
   ]
  },
  {
   "cell_type": "code",
   "execution_count": 20,
   "metadata": {},
   "outputs": [],
   "source": [
    "# cookies.groupby('origin_site').size()"
   ]
  },
  {
   "cell_type": "code",
   "execution_count": 16,
   "metadata": {},
   "outputs": [],
   "source": [
    "# big_table = []\n",
    "\n",
    "# data_path = \"exp-data/\"\n",
    "\n",
    "# def extract_unique_cookie_pairs(type_name, exp_group, exp_num):\n",
    "#     file_name = type_name + '-' + exp_group + str(exp_num)\n",
    "#     print(file_name)\n",
    "#     conn = sqlite3.connect(data_path + file_name +\".sqlite\")\n",
    "#     javascript_cookies = pd.read_sql_query(\n",
    "#     \"select visit_id, host, name, value from javascript_cookies;\", conn)\n",
    "#     javascript_cookies = javascript_cookies.drop_duplicates()\n",
    "#     df = javascript_cookies.groupby('visit_id')[\"host\", \"name\", \"value\"].nunique()\n",
    "#     pairs = javascript_cookies.groupby('visit_id').size().values\n",
    "#     df[\"pairs\"] = pairs\n",
    "#     df['origin_site'] = ['webmd', 'mayoclinic', type_name]\n",
    "#     df['exp_type'] = [type_name] * 3\n",
    "#     df['exp_group'] = [exp_group] * 3\n",
    "#     df['exp_index'] = [exp_num] * 3\n",
    "#     return df"
   ]
  },
  {
   "cell_type": "code",
   "execution_count": 19,
   "metadata": {},
   "outputs": [],
   "source": [
    "# exp_types = ['nyt', 'forbes', 'washington']\n",
    "# exp_groups = ['t', 'c']\n",
    "# for i in range(1, 7):\n",
    "#     for t in exp_types:\n",
    "#         for g in exp_groups:\n",
    "#             big_table.append(extract_unique_cookie_pairs(t, g, i))"
   ]
  },
  {
   "cell_type": "code",
   "execution_count": 18,
   "metadata": {},
   "outputs": [],
   "source": [
    "# result = pd.concat(big_table)"
   ]
  },
  {
   "cell_type": "code",
   "execution_count": 21,
   "metadata": {},
   "outputs": [],
   "source": [
    "# result.to_csv(\"cookie_result-6.csv\", index=False)"
   ]
  },
  {
   "cell_type": "code",
   "execution_count": 181,
   "metadata": {
    "scrolled": true
   },
   "outputs": [],
   "source": [
    "# result"
   ]
  },
  {
   "cell_type": "code",
   "execution_count": null,
   "metadata": {},
   "outputs": [],
   "source": []
  }
 ],
 "metadata": {
  "kernelspec": {
   "display_name": "Python 3",
   "language": "python",
   "name": "python3"
  },
  "language_info": {
   "codemirror_mode": {
    "name": "ipython",
    "version": 3
   },
   "file_extension": ".py",
   "mimetype": "text/x-python",
   "name": "python",
   "nbconvert_exporter": "python",
   "pygments_lexer": "ipython3",
   "version": "3.7.6"
  }
 },
 "nbformat": 4,
 "nbformat_minor": 2
}
